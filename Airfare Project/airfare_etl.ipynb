{
 "cells": [
  {
   "cell_type": "code",
   "execution_count": null,
   "metadata": {},
   "outputs": [],
   "source": [
    "import pandas as pd\n",
    "from sqlalchemy import create_engine,MetaData\n",
    "import uuid\n",
    "from sqlalchemy.dialects.postgresql import UUID \n",
    "import sqlalchemy\n",
    "from airfare_packages import airfare_etl, airfare_classes \n",
    "f"
   ]
  },
  {
   "cell_type": "code",
   "execution_count": null,
   "metadata": {},
   "outputs": [],
   "source": [
    "engine = create_engine()\n"
   ]
  },
  {
   "cell_type": "code",
   "execution_count": 3,
   "metadata": {},
   "outputs": [],
   "source": [
    "raw_airfare_data = pd.read_csv(r\"data/Scraped_dataset.csv\")"
   ]
  },
  {
   "cell_type": "code",
   "execution_count": 8,
   "metadata": {},
   "outputs": [
    {
     "data": {
      "text/html": [
       "<div>\n",
       "<style scoped>\n",
       "    .dataframe tbody tr th:only-of-type {\n",
       "        vertical-align: middle;\n",
       "    }\n",
       "\n",
       "    .dataframe tbody tr th {\n",
       "        vertical-align: top;\n",
       "    }\n",
       "\n",
       "    .dataframe thead th {\n",
       "        text-align: right;\n",
       "    }\n",
       "</style>\n",
       "<table border=\"1\" class=\"dataframe\">\n",
       "  <thead>\n",
       "    <tr style=\"text-align: right;\">\n",
       "      <th></th>\n",
       "      <th>Date of Booking</th>\n",
       "      <th>Date of Journey</th>\n",
       "      <th>Airline-Class</th>\n",
       "      <th>Departure Time</th>\n",
       "      <th>Arrival Time</th>\n",
       "      <th>Duration</th>\n",
       "      <th>Total Stops</th>\n",
       "      <th>Price</th>\n",
       "    </tr>\n",
       "  </thead>\n",
       "  <tbody>\n",
       "    <tr>\n",
       "      <th>0</th>\n",
       "      <td>15/01/2023</td>\n",
       "      <td>16/01/2023</td>\n",
       "      <td>SpiceJet \\nSG-8169\\nECONOMY</td>\n",
       "      <td>20:00\\nDelhi</td>\n",
       "      <td>22:05\\nMumbai</td>\n",
       "      <td>02h 05m</td>\n",
       "      <td>non-stop</td>\n",
       "      <td>5,335</td>\n",
       "    </tr>\n",
       "    <tr>\n",
       "      <th>1</th>\n",
       "      <td>15/01/2023</td>\n",
       "      <td>16/01/2023</td>\n",
       "      <td>Indigo \\n6E-2519\\nECONOMY</td>\n",
       "      <td>23:00\\nDelhi</td>\n",
       "      <td>01:20\\nMumbai</td>\n",
       "      <td>02h 20m</td>\n",
       "      <td>non-stop</td>\n",
       "      <td>5,899</td>\n",
       "    </tr>\n",
       "    <tr>\n",
       "      <th>2</th>\n",
       "      <td>15/01/2023</td>\n",
       "      <td>16/01/2023</td>\n",
       "      <td>GO FIRST \\nG8- 354\\nECONOMY</td>\n",
       "      <td>22:30\\nDelhi</td>\n",
       "      <td>00:40\\nMumbai</td>\n",
       "      <td>02h 10m</td>\n",
       "      <td>non-stop</td>\n",
       "      <td>5,801</td>\n",
       "    </tr>\n",
       "    <tr>\n",
       "      <th>3</th>\n",
       "      <td>15/01/2023</td>\n",
       "      <td>16/01/2023</td>\n",
       "      <td>SpiceJet \\nSG-8709\\nECONOMY</td>\n",
       "      <td>18:50\\nDelhi</td>\n",
       "      <td>20:55\\nMumbai</td>\n",
       "      <td>02h 05m</td>\n",
       "      <td>non-stop</td>\n",
       "      <td>5,794</td>\n",
       "    </tr>\n",
       "    <tr>\n",
       "      <th>4</th>\n",
       "      <td>15/01/2023</td>\n",
       "      <td>16/01/2023</td>\n",
       "      <td>Air India \\nAI-805\\nECONOMY</td>\n",
       "      <td>20:00\\nDelhi</td>\n",
       "      <td>22:10\\nMumbai</td>\n",
       "      <td>02h 10m</td>\n",
       "      <td>non-stop</td>\n",
       "      <td>5,955</td>\n",
       "    </tr>\n",
       "    <tr>\n",
       "      <th>...</th>\n",
       "      <td>...</td>\n",
       "      <td>...</td>\n",
       "      <td>...</td>\n",
       "      <td>...</td>\n",
       "      <td>...</td>\n",
       "      <td>...</td>\n",
       "      <td>...</td>\n",
       "      <td>...</td>\n",
       "    </tr>\n",
       "    <tr>\n",
       "      <th>452083</th>\n",
       "      <td>15/01/2023</td>\n",
       "      <td>06/03/2023</td>\n",
       "      <td>Vistara \\nUK-926\\nBUSINESS</td>\n",
       "      <td>06:45\\nAhmedabad</td>\n",
       "      <td>19:50\\nChennai</td>\n",
       "      <td>13h 05m</td>\n",
       "      <td>1-stop</td>\n",
       "      <td>65,028</td>\n",
       "    </tr>\n",
       "    <tr>\n",
       "      <th>452084</th>\n",
       "      <td>15/01/2023</td>\n",
       "      <td>06/03/2023</td>\n",
       "      <td>Vistara \\nUK-918\\nBUSINESS</td>\n",
       "      <td>05:05\\nAhmedabad</td>\n",
       "      <td>16:20\\nChennai</td>\n",
       "      <td>11h 15m</td>\n",
       "      <td>1-stop</td>\n",
       "      <td>69,254</td>\n",
       "    </tr>\n",
       "    <tr>\n",
       "      <th>452085</th>\n",
       "      <td>15/01/2023</td>\n",
       "      <td>06/03/2023</td>\n",
       "      <td>Vistara \\nUK-918\\nBUSINESS</td>\n",
       "      <td>05:05\\nAhmedabad</td>\n",
       "      <td>16:20\\nChennai</td>\n",
       "      <td>11h 15m</td>\n",
       "      <td>1-stop</td>\n",
       "      <td>69,254</td>\n",
       "    </tr>\n",
       "    <tr>\n",
       "      <th>452086</th>\n",
       "      <td>15/01/2023</td>\n",
       "      <td>06/03/2023</td>\n",
       "      <td>Vistara \\nUK-946\\nBUSINESS</td>\n",
       "      <td>08:40\\nAhmedabad</td>\n",
       "      <td>19:50\\nChennai</td>\n",
       "      <td>11h 10m</td>\n",
       "      <td>1-stop</td>\n",
       "      <td>72,980</td>\n",
       "    </tr>\n",
       "    <tr>\n",
       "      <th>452087</th>\n",
       "      <td>15/01/2023</td>\n",
       "      <td>06/03/2023</td>\n",
       "      <td>Vistara \\nUK-946\\nBUSINESS</td>\n",
       "      <td>08:40\\nAhmedabad</td>\n",
       "      <td>19:50\\nChennai</td>\n",
       "      <td>11h 10m</td>\n",
       "      <td>1-stop</td>\n",
       "      <td>72,980</td>\n",
       "    </tr>\n",
       "  </tbody>\n",
       "</table>\n",
       "<p>452088 rows × 8 columns</p>\n",
       "</div>"
      ],
      "text/plain": [
       "       Date of Booking Date of Journey                Airline-Class  \\\n",
       "0           15/01/2023      16/01/2023  SpiceJet \\nSG-8169\\nECONOMY   \n",
       "1           15/01/2023      16/01/2023    Indigo \\n6E-2519\\nECONOMY   \n",
       "2           15/01/2023      16/01/2023  GO FIRST \\nG8- 354\\nECONOMY   \n",
       "3           15/01/2023      16/01/2023  SpiceJet \\nSG-8709\\nECONOMY   \n",
       "4           15/01/2023      16/01/2023  Air India \\nAI-805\\nECONOMY   \n",
       "...                ...             ...                          ...   \n",
       "452083      15/01/2023      06/03/2023   Vistara \\nUK-926\\nBUSINESS   \n",
       "452084      15/01/2023      06/03/2023   Vistara \\nUK-918\\nBUSINESS   \n",
       "452085      15/01/2023      06/03/2023   Vistara \\nUK-918\\nBUSINESS   \n",
       "452086      15/01/2023      06/03/2023   Vistara \\nUK-946\\nBUSINESS   \n",
       "452087      15/01/2023      06/03/2023   Vistara \\nUK-946\\nBUSINESS   \n",
       "\n",
       "          Departure Time    Arrival Time Duration Total Stops   Price  \n",
       "0           20:00\\nDelhi   22:05\\nMumbai  02h 05m    non-stop   5,335  \n",
       "1           23:00\\nDelhi   01:20\\nMumbai  02h 20m    non-stop   5,899  \n",
       "2           22:30\\nDelhi   00:40\\nMumbai  02h 10m    non-stop   5,801  \n",
       "3           18:50\\nDelhi   20:55\\nMumbai  02h 05m    non-stop   5,794  \n",
       "4           20:00\\nDelhi   22:10\\nMumbai  02h 10m    non-stop   5,955  \n",
       "...                  ...             ...      ...         ...     ...  \n",
       "452083  06:45\\nAhmedabad  19:50\\nChennai  13h 05m      1-stop  65,028  \n",
       "452084  05:05\\nAhmedabad  16:20\\nChennai  11h 15m      1-stop  69,254  \n",
       "452085  05:05\\nAhmedabad  16:20\\nChennai  11h 15m      1-stop  69,254  \n",
       "452086  08:40\\nAhmedabad  19:50\\nChennai  11h 10m      1-stop  72,980  \n",
       "452087  08:40\\nAhmedabad  19:50\\nChennai  11h 10m      1-stop  72,980  \n",
       "\n",
       "[452088 rows x 8 columns]"
      ]
     },
     "execution_count": 8,
     "metadata": {},
     "output_type": "execute_result"
    }
   ],
   "source": [
    "raw_airfare_data"
   ]
  },
  {
   "cell_type": "code",
   "execution_count": 7,
   "metadata": {},
   "outputs": [
    {
     "data": {
      "text/plain": [
       "Index(['Date of Booking', 'Date of Journey', 'Airline-Class', 'Departure Time',\n",
       "       'Arrival Time', 'Duration', 'Total Stops', 'Price'],\n",
       "      dtype='object')"
      ]
     },
     "execution_count": 7,
     "metadata": {},
     "output_type": "execute_result"
    }
   ],
   "source": [
    "raw_airfare_data.head(2).columns"
   ]
  },
  {
   "cell_type": "code",
   "execution_count": 4,
   "metadata": {},
   "outputs": [],
   "source": [
    "clean_airfare_data = airfare_etl.process_raw_data(raw_airfare_data)"
   ]
  },
  {
   "cell_type": "code",
   "execution_count": 5,
   "metadata": {},
   "outputs": [
    {
     "data": {
      "text/plain": [
       "(452088, 13)"
      ]
     },
     "execution_count": 5,
     "metadata": {},
     "output_type": "execute_result"
    }
   ],
   "source": [
    "clean_airfare_data.shape"
   ]
  },
  {
   "cell_type": "code",
   "execution_count": 11,
   "metadata": {},
   "outputs": [],
   "source": [
    "db_col_definitions = [ \n",
    "    sqlalchemy.Column(\"id\", UUID(as_uuid=True), primary_key=True, default=uuid.uuid4),\n",
    "    sqlalchemy.Column('date_of_booking', sqlalchemy.Date),  \n",
    "    sqlalchemy.Column('date_of_journey', sqlalchemy.Date),                    \n",
    "    sqlalchemy.Column('airline', sqlalchemy.String),\n",
    "    sqlalchemy.Column('flight_code', sqlalchemy.String),\n",
    "    sqlalchemy.Column(\"class\", sqlalchemy.String),\n",
    "    sqlalchemy.Column(\"connections\", sqlalchemy.Integer),\n",
    "    sqlalchemy.Column(\"duration_minutes\", sqlalchemy.Integer),\n",
    "    sqlalchemy.Column(\"departure_time\", sqlalchemy.Time),\n",
    "    sqlalchemy.Column(\"source_city\", sqlalchemy.String),\n",
    "    sqlalchemy.Column(\"arrival_time\", sqlalchemy.Time),\n",
    "    sqlalchemy.Column(\"destination_city\", sqlalchemy.String),\n",
    "    sqlalchemy.Column(\"price\", sqlalchemy.Float)]"
   ]
  },
  {
   "cell_type": "code",
   "execution_count": null,
   "metadata": {},
   "outputs": [],
   "source": [
    "with airfare_classes.db_table(\"airfare_data\",engine,MetaData()) as table:\n",
    "    table.create_table(db_col_definitions)\n",
    "    table.initial_data_upload(clean_airfare_data)"
   ]
  }
 ],
 "metadata": {
  "kernelspec": {
   "display_name": "airfare_venv",
   "language": "python",
   "name": "python3"
  },
  "language_info": {
   "codemirror_mode": {
    "name": "ipython",
    "version": 3
   },
   "file_extension": ".py",
   "mimetype": "text/x-python",
   "name": "python",
   "nbconvert_exporter": "python",
   "pygments_lexer": "ipython3",
   "version": "3.13.3"
  }
 },
 "nbformat": 4,
 "nbformat_minor": 2
}
